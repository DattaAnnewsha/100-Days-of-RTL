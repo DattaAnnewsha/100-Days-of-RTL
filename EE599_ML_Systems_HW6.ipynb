{
  "cells": [
    {
      "cell_type": "markdown",
      "metadata": {
        "id": "view-in-github",
        "colab_type": "text"
      },
      "source": [
        "<a href=\"https://colab.research.google.com/github/DattaAnnewsha/100-Days-of-RTL/blob/main/EE599_ML_Systems_HW6.ipynb\" target=\"_parent\"><img src=\"https://colab.research.google.com/assets/colab-badge.svg\" alt=\"Open In Colab\"/></a>"
      ]
    },
    {
      "cell_type": "markdown",
      "metadata": {
        "id": "pxH3R-8OZOpk"
      },
      "source": [
        "# HW6 EE599 Systems for Machine Learning, Fall 2023\n",
        "University of Southern California\n",
        "\n",
        "Instructors: Arash Saifhashemi, Murali Annavaram\n",
        "\n",
        "In this homework assignment, we're going to implement DP-SGD for neural networks! Recall from the class that classical ML models possessed convenient properties such as Convexity and L-Lipschitzness which make the DP analysis easy. However, modern neural networks, like the one we'll be working with, does not have these properties. Thus, we need to modify the training algorithm, gradient descent, so that the trained model is DP.\n",
        "\n",
        "## Prerequisites:\n",
        "\n",
        "Set the runtime type to GPU. (Runtime -> Change Runtime Type)"
      ]
    },
    {
      "cell_type": "markdown",
      "metadata": {
        "id": "fQQk25oQCo8f"
      },
      "source": [
        "## Mount Google Drive\n",
        "\n",
        "Create a folder named `HW6` under `ML_Systems` in your Google drive."
      ]
    },
    {
      "cell_type": "code",
      "execution_count": null,
      "metadata": {
        "colab": {
          "base_uri": "https://localhost:8080/"
        },
        "id": "ezmjLOr6Co8f",
        "outputId": "8a8364db-c004-4a74-de81-49fe30d17299"
      },
      "outputs": [
        {
          "output_type": "stream",
          "name": "stdout",
          "text": [
            "Mounted at /content/drive\n"
          ]
        }
      ],
      "source": [
        "from google.colab import drive\n",
        "\n",
        "drive.mount(\"/content/drive\")\n",
        "\n",
        "import sys, os\n",
        "\n",
        "data_dir = \"/content/drive/MyDrive/ML_Systems/HW6/data\""
      ]
    },
    {
      "cell_type": "markdown",
      "metadata": {
        "id": "g1ODkkuwZTSD"
      },
      "source": [
        "## Initial Setup\n",
        "\n",
        "This section imports all required packages from PyTorch."
      ]
    },
    {
      "cell_type": "code",
      "execution_count": null,
      "metadata": {
        "colab": {
          "base_uri": "https://localhost:8080/"
        },
        "id": "FnT0mf2l0hUC",
        "outputId": "ab60a0a3-f6d7-41f8-e3f4-ab2ccad5dcfd"
      },
      "outputs": [
        {
          "output_type": "execute_result",
          "data": {
            "text/plain": [
              "<torch._C.Generator at 0x79f23e30a790>"
            ]
          },
          "metadata": {},
          "execution_count": 2
        }
      ],
      "source": [
        "import torch\n",
        "import torchvision\n",
        "import torch.nn as nn\n",
        "import torch.optim as optim\n",
        "import torch.nn.functional as F\n",
        "from torch.utils.data import DataLoader\n",
        "import torchvision.transforms as transforms\n",
        "\n",
        "import numpy as np\n",
        "import matplotlib.pyplot as plt\n",
        "import copy\n",
        "\n",
        "torch.manual_seed(0)"
      ]
    },
    {
      "cell_type": "markdown",
      "metadata": {
        "id": "3B5DlxLjCo8g"
      },
      "source": [
        "**Reminder:** set the runtime type to \"GPU\", or your code will run much more slowly on a CPU."
      ]
    },
    {
      "cell_type": "code",
      "execution_count": null,
      "metadata": {
        "id": "22wBDD60Co8h"
      },
      "outputs": [],
      "source": [
        "if torch.cuda.is_available():\n",
        "    device = torch.device(\"cuda\")\n",
        "else:\n",
        "    device = torch.device(\"cpu\")"
      ]
    },
    {
      "cell_type": "markdown",
      "metadata": {
        "id": "yQA2aMuNbv48"
      },
      "source": [
        "Define model architecture and prepare dataset, which are the same as the previous homework."
      ]
    },
    {
      "cell_type": "code",
      "execution_count": null,
      "metadata": {
        "id": "Km-kc-wa0n5d"
      },
      "outputs": [],
      "source": [
        "class Net(nn.Module):\n",
        "    def __init__(self):\n",
        "        super(Net, self).__init__()\n",
        "\n",
        "        # Define the layers of the neural network architecture\n",
        "\n",
        "        # First convolutional layer: 3 input channels, 6 output channels, kernel size 5x5\n",
        "        self.conv1 = nn.Conv2d(3, 6, 5, bias=False)\n",
        "\n",
        "        # Max pooling layer with kernel size 2x2 and stride 2\n",
        "        self.pool = nn.MaxPool2d(2, 2)\n",
        "\n",
        "        # Second convolutional layer: 6 input channels, 16 output channels, kernel size 5x5\n",
        "        self.conv2 = nn.Conv2d(6, 16, 5, bias=False)\n",
        "\n",
        "        # Fully connected (dense) layers\n",
        "\n",
        "        # First fully connected layer: 16*5*5 input features, 120 output features\n",
        "        self.fc1 = nn.Linear(16 * 5 * 5, 120, bias=False)\n",
        "\n",
        "        # Second fully connected layer: 120 input features, 84 output features\n",
        "        self.fc2 = nn.Linear(120, 84, bias=False)\n",
        "\n",
        "        # Third fully connected layer: 84 input features, 10 output features (for classification)\n",
        "        self.fc3 = nn.Linear(84, 10, bias=False)\n",
        "\n",
        "    def forward(self, x: torch.Tensor) -> torch.Tensor:\n",
        "        # Forward pass through the neural network\n",
        "\n",
        "        # Apply first convolutional layer, followed by ReLU activation and max pooling\n",
        "        x = self.pool(F.relu(self.conv1(x)))\n",
        "\n",
        "        # Apply second convolutional layer, followed by ReLU activation and max pooling\n",
        "        x = self.pool(F.relu(self.conv2(x)))\n",
        "\n",
        "        # The output from the convolutional and pooling layers is in the form of a\n",
        "        # 3D tensor (height, width, depth or channels).\n",
        "        # To feed this tensor into a fully connected layer,\n",
        "        # it needs to be flattened into a 1D tensor.\n",
        "        # Reshape tensor for fully connected layers\n",
        "        # A2D tensor with a shape of [batch_size, 16 * 5 * 5].\n",
        "        x = x.view(-1, 16 * 5 * 5)\n",
        "\n",
        "        # Apply first fully connected layer, followed by ReLU activation\n",
        "        x = F.relu(self.fc1(x))\n",
        "\n",
        "        # Apply second fully connected layer, followed by ReLU activation\n",
        "        x = F.relu(self.fc2(x))\n",
        "\n",
        "        # Apply third fully connected layer (output layer)\n",
        "        x = self.fc3(x)\n",
        "\n",
        "        return x"
      ]
    },
    {
      "cell_type": "code",
      "execution_count": null,
      "metadata": {
        "id": "heygH3k7ZI0L"
      },
      "outputs": [],
      "source": [
        "# A function to evaluate the performance of a given neural network model\n",
        "# using a test dataset.\n",
        "# It calculates the accuracy of the model's predictions on the test data.\n",
        "def calculate_accuracy(\n",
        "    model: nn.Module, dataloader: DataLoader, max_samples=None\n",
        ") -> float:\n",
        "    correct_predictions = 0  # Initialize the count of correctly predicted samples\n",
        "    total_samples = 0  # Initialize the count of total samples\n",
        "    inference_count = 0  # Initialize the count of inferences made\n",
        "\n",
        "    with torch.no_grad():  # Disable gradient calculation for inference\n",
        "        for batch_data in dataloader:\n",
        "            images, labels = batch_data  # Separate images and labels from the batch\n",
        "\n",
        "            images = images.to(device)  # Move images to the specified device\n",
        "            labels = labels.to(device)  # Move labels to the specified device\n",
        "\n",
        "            outputs = model(images)  # Forward pass to get model predictions\n",
        "            _, predicted = torch.max(outputs.data, 1)  # Get predicted class indices\n",
        "\n",
        "            total_samples += labels.size(0)  # Increment the total count of samples\n",
        "            correct_predictions += (\n",
        "                (predicted == labels).sum().item()\n",
        "            )  # Count correct predictions\n",
        "\n",
        "            if (\n",
        "                max_samples\n",
        "            ):  # Check if a maximum number of samples for testing is specified\n",
        "                inference_count += images.shape[\n",
        "                    0\n",
        "                ]  # Increment the count of inferences made\n",
        "                if (\n",
        "                    inference_count > max_samples\n",
        "                ):  # Stop testing if maximum samples reached\n",
        "                    break\n",
        "\n",
        "    accuracy = (\n",
        "        100 * correct_predictions / total_samples\n",
        "    )  # Calculate the accuracy as a percentage\n",
        "    return accuracy"
      ]
    },
    {
      "cell_type": "markdown",
      "metadata": {
        "id": "5tIgKCdRcmB8"
      },
      "source": [
        "## DP Hyperparamters\n",
        "Here is where we will defined the different hyperparameters needed for DP-SGD.\n",
        "* $N = 2048$: Number of datapoints we are using. Since DP-SGD takes extremely long to run, we will only use a subset of the total CIFAR-10 dataset\n",
        "* $C = 1.0$: This is the clipping threshold. If $||∇L(x, y)||_{2} > C$ then we divide by $||∇L(x, y)||_{2}$.\n",
        "* $E = 20$: Number of epochs to run DP-SGD\n",
        "* $q = batch\\_size / N$: This is the sample probability. Since we are grouping the dataset into batches, each batch can be thought of as being sampled.\n",
        "* $T = \\frac{E}{q}$: number of iterations. This is more of an internal value used to calculate the DP parameter values, because DP-SGD is measured in terms of iterations, not epochs. But we can convert from Epochs to iterations.\n",
        "* $\\sigma$: The noise multiplier used to add noise to the gradients. As $\\sigma$ gets larger, the privacy guarantee improves but the variance of the noise increases, which can reduce the accuracy or utility. The choice of $\\sigma$ is often related to the desired $\\varepsilon$ value; achieving a lower\n",
        "$\\varepsilon$ (stronger privacy) typically requires a higher\n",
        "$\\sigma$.\n",
        "\n",
        "* $\\delta = 10^{-5}$: This is the probability of failure. We will set this to a default value.\n",
        "* $\\varepsilon = \\frac{q * \\sqrt{T * \\log(1 / \\delta)}}{\\sigma}$: the privacy loss, which is a function of the other hyperparameters. It quantifies the strength of the privacy guarantee. In DP, $\\varepsilon$ is used to define the level of indistinguishability that the algorithm ensures between outputs generated from datasets that differ by a single element. A smaller value means  a stronger privacy guarantee, meaning the outputs of the algorithm are more similar (indistinguishable) regardless of whether any individual's data is included or excluded from the dataset.\n",
        "However, a smaller value usually means more noise must be added to the data, which can degrade the utility or accuracy of the algorithm's output.\n"
      ]
    },
    {
      "cell_type": "code",
      "execution_count": null,
      "metadata": {
        "id": "1wUbCGtdL_UV"
      },
      "outputs": [],
      "source": [
        "batch_size = 32\n",
        "N = 2048\n",
        "C = 1.0\n",
        "E = 20\n",
        "q = batch_size / N\n",
        "T = E / q\n",
        "delta = 1e-5"
      ]
    },
    {
      "cell_type": "code",
      "execution_count": null,
      "metadata": {
        "colab": {
          "base_uri": "https://localhost:8080/"
        },
        "id": "VhKzopgY_mbt",
        "outputId": "97ddd023-d342-41c8-9f4d-80b5bad41f71"
      },
      "outputs": [
        {
          "output_type": "stream",
          "name": "stdout",
          "text": [
            "Downloading https://www.cs.toronto.edu/~kriz/cifar-10-python.tar.gz to /content/drive/MyDrive/ML_Systems/HW6/data/cifar-10-python.tar.gz\n"
          ]
        },
        {
          "output_type": "stream",
          "name": "stderr",
          "text": [
            "100%|██████████| 170498071/170498071 [00:05<00:00, 29771504.65it/s]\n"
          ]
        },
        {
          "output_type": "stream",
          "name": "stdout",
          "text": [
            "Extracting /content/drive/MyDrive/ML_Systems/HW6/data/cifar-10-python.tar.gz to /content/drive/MyDrive/ML_Systems/HW6/data\n"
          ]
        }
      ],
      "source": [
        "# Define the mean values and standard deviation values for normalization\n",
        "mean_values = (0.5, 0.5, 0.5)  # Mean values for red, green, and blue channels\n",
        "std_values = (\n",
        "    0.5,\n",
        "    0.5,\n",
        "    0.5,\n",
        ")  # Standard deviation values for red, green, and blue channels\n",
        "\n",
        "# Define the transformation pipeline\n",
        "transform = transforms.Compose(\n",
        "    [\n",
        "        transforms.ToTensor(),  # Convert images to tensors\n",
        "        transforms.Normalize(mean_values, std_values),  # Normalize tensor values\n",
        "    ]\n",
        ")\n",
        "\n",
        "# Load the CIFAR10 training dataset and apply the defined transformations\n",
        "trainset = torchvision.datasets.CIFAR10(\n",
        "    root=data_dir, train=True, download=True, transform=transform\n",
        ")\n",
        "\n",
        "trainsubset = torch.utils.data.Subset(trainset, torch.arange(N))\n",
        "\n",
        "# Create a DataLoader to efficiently load and process training data in batches\n",
        "trainloader = torch.utils.data.DataLoader(\n",
        "    trainsubset, batch_size=batch_size, shuffle=False, num_workers=2\n",
        ")"
      ]
    },
    {
      "cell_type": "markdown",
      "metadata": {
        "id": "LN2J7UqXCo8j"
      },
      "source": [
        "## Non-Private Training with SGD"
      ]
    },
    {
      "cell_type": "code",
      "execution_count": null,
      "metadata": {
        "colab": {
          "base_uri": "https://localhost:8080/"
        },
        "id": "oBu02M4lCo8j",
        "outputId": "8da40b75-020b-498d-b8e2-e72bef9ec7c1"
      },
      "outputs": [
        {
          "output_type": "stream",
          "name": "stdout",
          "text": [
            "Epoch 1 loss: 2.3020\n",
            "Epoch 2 loss: 2.3006\n",
            "Epoch 3 loss: 2.2974\n",
            "Epoch 4 loss: 2.2823\n",
            "Epoch 5 loss: 2.2019\n",
            "Epoch 6 loss: 2.0951\n",
            "Epoch 7 loss: 1.9962\n",
            "Epoch 8 loss: 1.9137\n",
            "Epoch 9 loss: 1.8426\n",
            "Epoch 10 loss: 1.7804\n",
            "Epoch 11 loss: 1.7222\n",
            "Epoch 12 loss: 1.6700\n",
            "Epoch 13 loss: 1.6180\n",
            "Epoch 14 loss: 1.5727\n",
            "Epoch 15 loss: 1.5318\n",
            "Epoch 16 loss: 1.4884\n",
            "Epoch 17 loss: 1.4438\n",
            "Epoch 18 loss: 1.4009\n",
            "Epoch 19 loss: 1.3529\n",
            "Epoch 20 loss: 1.3044\n",
            "Finished Training\n",
            "Accuracy of the network on the train images: 52.587890625%\n"
          ]
        }
      ],
      "source": [
        "\n",
        "def SGD(model, dataloader, lr):\n",
        "    # Define the loss criterion and optimizer\n",
        "    criterion = nn.CrossEntropyLoss()  # Cross-entropy loss for classification\n",
        "    optimizer = optim.SGD(model.parameters(), lr=lr)\n",
        "\n",
        "    # Loop over the dataset for multiple epochs\n",
        "    for epoch in range(E):\n",
        "        running_loss = 0.0\n",
        "\n",
        "        for batch in dataloader:\n",
        "            inputs, labels = batch\n",
        "            inputs = inputs.to(device)\n",
        "            labels = labels.to(device)\n",
        "\n",
        "            output = model(inputs)\n",
        "            loss = criterion(output, labels)\n",
        "            loss.backward()\n",
        "\n",
        "            optimizer.step()\n",
        "            optimizer.zero_grad()\n",
        "\n",
        "            running_loss += loss\n",
        "\n",
        "        print(f\"Epoch {epoch+1} loss: {running_loss/len(dataloader):.4f}\")\n",
        "\n",
        "    print(\"Finished Training\")  # Training loop is complete\n",
        "\n",
        "# Create model and start training\n",
        "net = Net().to(device)\n",
        "SGD(net, trainloader, lr=0.05)\n",
        "\n",
        "score = calculate_accuracy(net, trainloader)\n",
        "print('Accuracy of the network on the train images: {}%'.format(score))"
      ]
    },
    {
      "cell_type": "markdown",
      "metadata": {
        "id": "EZZrJ9ZpgTrt"
      },
      "source": [
        "## Q1: Privacy-Aware Training with DP-SGD\n",
        "TODO: Change the naive SGD function to make it become differentially private. Please refer to the original [paper](https://arxiv.org/pdf/1607.00133.pdf) for DP-SGD alogrithm.\n",
        "\n",
        "Note that we have removed the pytorch optimizer. Instead, we'll be implementing the optimzer functionality ourselves.\n",
        "\n",
        "We set $\\sigma = 0.05$ and $lr = 0.05$. Note that this training loop has not converged to the optimal weights due to insufficient training epochs, but for simplicity, we stop training after 20 epochs. In practice, to get the optimal accuracy for DP-SGD, we need to run significantly more epochs than naive SGD."
      ]
    },
    {
      "cell_type": "code",
      "execution_count": null,
      "metadata": {
        "colab": {
          "base_uri": "https://localhost:8080/",
          "height": 142
        },
        "id": "LpdkuhRN03sb",
        "outputId": "a93e13b3-0d85-4731-8190-6d5b710ff0d6"
      },
      "outputs": [
        {
          "output_type": "error",
          "ename": "IndentationError",
          "evalue": "ignored",
          "traceback": [
            "\u001b[0;36m  File \u001b[0;32m\"<ipython-input-9-7a3d8416413c>\"\u001b[0;36m, line \u001b[0;32m41\u001b[0m\n\u001b[0;31m    with torch.no_grad():\u001b[0m\n\u001b[0m    ^\u001b[0m\n\u001b[0;31mIndentationError\u001b[0m\u001b[0;31m:\u001b[0m expected an indented block after 'with' statement on line 31\n"
          ]
        }
      ],
      "source": [
        "'''\n",
        "from torch.nn.utils import clip_grad_norm_\n",
        "\n",
        "def DPSGD(model, dataloader, sigma, lr):\n",
        "    # Define the loss criterion and optimizer\n",
        "    criterion = nn.CrossEntropyLoss()  # Cross-entropy loss for classification\n",
        "\n",
        "    # Loop over the dataset for multiple epochs\n",
        "    for epoch in range(E):\n",
        "        running_loss = 0.0\n",
        "\n",
        "        for batch in dataloader:\n",
        "            inputs, labels = batch\n",
        "            inputs = inputs.to(device)\n",
        "            labels = labels.to(device)\n",
        "\n",
        "            for param in model.parameters():\n",
        "                param.accumulated_grads = torch.zeros_like(param)\n",
        "\n",
        "            # Iterate over each input sample and its corresponding label sample\n",
        "            per_batch_loss = 0.0\n",
        "            for input_sample, label_sample in zip(inputs, labels):\n",
        "                input_sample = input_sample.unsqueeze(0)\n",
        "                label_sample = label_sample.unsqueeze(0)\n",
        "\n",
        "                # TODO: Compute gradients per sample\n",
        "\n",
        "\n",
        "                # TODO: Accumulate per_sample_loss to per_batch_loss for debugging purpose\n",
        "\n",
        "\n",
        "                with torch.no_grad():\n",
        "                    # TODO: Clip gradients and add noise, then accumulate gradients\n",
        "\n",
        "\n",
        "                # TODO: Clear gradients\n",
        "\n",
        "\n",
        "            # TODO: Average per_batch_loss and accumulate it to running_loss for debug purpose\n",
        "\n",
        "\n",
        "            with torch.no_grad():\n",
        "                # TODO: Averge accumulated gradients and update parameters\n",
        "                # Please use param.copy_() to set new param\n",
        "\n",
        "\n",
        "        print(f\"Epoch {epoch+1} loss: {running_loss/len(dataloader):.4f}\")\n",
        "\n",
        "    print(\"Finished Training\")  # Training loop is complete\n",
        "\n",
        "# Create model and start training\n",
        "net = Net().to(device)\n",
        "DPSGD(net, trainloader, sigma=0.05, lr=0.05)\n",
        "\n",
        "score = calculate_accuracy(net, trainloader)\n",
        "print('Accuracy of the network on the train images: {}%'.format(score))\n",
        "'''"
      ]
    },
    {
      "cell_type": "code",
      "source": [
        "import torch\n",
        "import torch.nn as nn\n",
        "from torch.nn.utils import clip_grad_norm_\n",
        "sigma = 0.05  # Noise parameter for privacy\n",
        "lr = 0.05  # Learning rate\n",
        "def DPSGD(model, dataloader, sigma, lr):\n",
        "    # Define the loss criterion\n",
        "    criterion = nn.CrossEntropyLoss()  # Cross-entropy loss for classification\n",
        "\n",
        "    # Loop over the dataset for multiple epochs\n",
        "    for epoch in range(E):\n",
        "        running_loss = 0.0\n",
        "\n",
        "        for batch in dataloader:\n",
        "            inputs, labels = batch\n",
        "            inputs = inputs.to(device)\n",
        "            labels = labels.to(device)\n",
        "\n",
        "            # Clear accumulated gradients\n",
        "            for param in model.parameters():\n",
        "                param.accumulated_grads = torch.zeros_like(param)\n",
        "\n",
        "            # Iterate over each input sample and its corresponding label sample\n",
        "            per_batch_loss = 0.0\n",
        "            for input_sample, label_sample in zip(inputs, labels):\n",
        "                input_sample = input_sample.unsqueeze(0)\n",
        "                label_sample = label_sample.unsqueeze(0)\n",
        "\n",
        "                # Forward pass\n",
        "                outputs = model(input_sample)\n",
        "                loss = criterion(outputs, label_sample)\n",
        "                per_batch_loss += loss.item()\n",
        "\n",
        "                # Compute gradients per sample\n",
        "                loss.backward()\n",
        "\n",
        "                # Clip gradients (DP-SGD specific)\n",
        "                clip_grad_norm_(model.parameters(), 1.0)\n",
        "\n",
        "                # Add noise to gradients and accumulate gradients (DP-SGD specific)\n",
        "                with torch.no_grad():\n",
        "                    for param in model.parameters():\n",
        "                        param.accumulated_grads += param.grad + torch.randn_like(param.grad) * sigma\n",
        "\n",
        "                # Clear gradients\n",
        "                model.zero_grad()\n",
        "\n",
        "            # Average per_batch_loss\n",
        "            per_batch_loss /= len(inputs)\n",
        "            running_loss += per_batch_loss\n",
        "\n",
        "            # Average accumulated gradients and update parameters (DP-SGD specific)\n",
        "            with torch.no_grad():\n",
        "                for param in model.parameters():\n",
        "                    param.copy_(param - lr * param.accumulated_grads / len(inputs))\n",
        "\n",
        "        print(f\"Epoch {epoch + 1} loss: {running_loss / len(dataloader):.4f}\")\n",
        "\n",
        "    print(\"Finished Training\")\n",
        "\n",
        "# Create model and start training\n",
        "net = Net().to(device)\n",
        "DPSGD(net, trainloader, sigma, lr)\n",
        "\n",
        "score = calculate_accuracy(net, trainloader)\n",
        "print('Accuracy of the network on the train images: {}%'.format(score))\n"
      ],
      "metadata": {
        "colab": {
          "base_uri": "https://localhost:8080/"
        },
        "id": "XI8CNg5bllSA",
        "outputId": "8c2c6e99-efad-4a1d-e440-e7174ff35602"
      },
      "execution_count": null,
      "outputs": [
        {
          "output_type": "stream",
          "name": "stdout",
          "text": [
            "Epoch 1 loss: 2.3022\n",
            "Epoch 2 loss: 2.3006\n",
            "Epoch 3 loss: 2.2962\n",
            "Epoch 4 loss: 2.2815\n",
            "Epoch 5 loss: 2.2542\n",
            "Epoch 6 loss: 2.2172\n",
            "Epoch 7 loss: 2.1608\n",
            "Epoch 8 loss: 2.1158\n",
            "Epoch 9 loss: 2.0919\n",
            "Epoch 10 loss: 2.0755\n",
            "Epoch 11 loss: 2.0592\n",
            "Epoch 12 loss: 2.0442\n",
            "Epoch 13 loss: 2.0302\n",
            "Epoch 14 loss: 2.0160\n",
            "Epoch 15 loss: 2.0033\n",
            "Epoch 16 loss: 1.9933\n",
            "Epoch 17 loss: 1.9821\n",
            "Epoch 18 loss: 1.9742\n",
            "Epoch 19 loss: 1.9661\n",
            "Epoch 20 loss: 1.9561\n",
            "Finished Training\n",
            "Accuracy of the network on the train images: 30.810546875%\n"
          ]
        }
      ]
    },
    {
      "cell_type": "markdown",
      "metadata": {
        "id": "3pMMDA_lCo8j"
      },
      "source": [
        "## Q2: Privacy and utility trade-off\n",
        "\n",
        "TODO: Plot how $\\epsilon$ changes as $\\sigma$ is increasing from 0.01 to 1. For the rest of the DP-SGD hyperparameters, use the default values defined above."
      ]
    },
    {
      "cell_type": "code",
      "execution_count": null,
      "metadata": {
        "id": "SQ9GObu4Co8k"
      },
      "outputs": [],
      "source": [
        "'''\n",
        "sigma_values = np.linspace(0.01, 1, 100)\n",
        "epsilon_values = []\n",
        "\n",
        "# TODO: calculate epsilon values for each sigma value based on the formula\n",
        "\n",
        "\n",
        "# Plot sigma vs epsilon\n",
        "plt.plot(sigma_values, epsilon_values)\n",
        "plt.xlabel(\"Sigma\")\n",
        "plt.ylabel(\"Epsilon\")\n",
        "plt.title(\"Sigma vs Epsilon\")\n",
        "plt.show()\n",
        "'''"
      ]
    },
    {
      "cell_type": "code",
      "source": [
        "sigma_values = np.linspace(0.01, 1, 100)\n",
        "epsilon_values = []\n",
        "\n",
        "epsilon = 2 * np.log(1.25 / delta) * sensitivity / (sigma * np.sqrt(N))\n",
        "\n",
        "import numpy as np\n",
        "import matplotlib.pyplot as plt\n",
        "\n",
        "# Define privacy parameters\n",
        "delta = 1e-5  # Desired privacy level (e.g., 1e-5 for 10^-5)\n",
        "N = 1000  # Size of the dataset (number of samples)\n",
        "sensitivity = 1  # Default sensitivity (assumed)\n",
        "\n",
        "# Define sigma values\n",
        "sigma_values = np.linspace(0.01, 1, 100)\n",
        "epsilon_values = []\n",
        "\n",
        "# Calculate epsilon values for each sigma value\n",
        "for sigma in sigma_values:\n",
        "    epsilon = 2 * np.log(1.25 / delta) * sensitivity / (sigma * np.sqrt(N))\n",
        "    epsilon_values.append(epsilon)\n",
        "\n",
        "# Plot sigma vs epsilon\n",
        "plt.plot(sigma_values, epsilon_values)\n",
        "plt.xlabel(\"Sigma\")\n",
        "plt.ylabel(\"Epsilon\")\n",
        "plt.title(\"Sigma vs Epsilon\")\n",
        "plt.show()\n"
      ],
      "metadata": {
        "colab": {
          "base_uri": "https://localhost:8080/",
          "height": 472
        },
        "id": "5URrK850j5vS",
        "outputId": "b627ec98-86f2-437a-d7b2-d406bc086b8c"
      },
      "execution_count": null,
      "outputs": [
        {
          "output_type": "display_data",
          "data": {
            "text/plain": [
              "<Figure size 640x480 with 1 Axes>"
            ],
            "image/png": "[encoded data removed]"
          },
          "metadata": {}
        }
      ]
    },
    {
      "cell_type": "markdown",
      "metadata": {
        "id": "_2dcImlDSrgA"
      },
      "source": [
        "TODO: Run DP-SGD again with $\\sigma=0.1$ and compare accuracy with the previous experiment."
      ]
    },
    {
      "cell_type": "code",
      "execution_count": null,
      "metadata": {
        "colab": {
          "base_uri": "https://localhost:8080/"
        },
        "id": "JuCnSlO_S9KJ",
        "outputId": "cde87705-947d-4703-af9b-bc7da724cdeb"
      },
      "outputs": [
        {
          "output_type": "stream",
          "name": "stdout",
          "text": [
            "Epoch 1 loss: 2.3013\n",
            "Epoch 2 loss: 2.2960\n",
            "Epoch 3 loss: 2.2813\n",
            "Epoch 4 loss: 2.2573\n",
            "Epoch 5 loss: 2.2225\n",
            "Epoch 6 loss: 2.1828\n",
            "Epoch 7 loss: 2.1486\n",
            "Epoch 8 loss: 2.1226\n",
            "Epoch 9 loss: 2.1086\n",
            "Epoch 10 loss: 2.0958\n",
            "Epoch 11 loss: 2.0845\n",
            "Epoch 12 loss: 2.0771\n",
            "Epoch 13 loss: 2.0750\n",
            "Epoch 14 loss: 2.0664\n",
            "Epoch 15 loss: 2.0585\n",
            "Epoch 16 loss: 2.0526\n",
            "Epoch 17 loss: 2.0461\n",
            "Epoch 18 loss: 2.0432\n",
            "Epoch 19 loss: 2.0392\n",
            "Epoch 20 loss: 2.0369\n",
            "Finished Training\n",
            "Accuracy of the network on the train images: 30.6640625%\n"
          ]
        }
      ],
      "source": [
        "# Create model and start training\n",
        "net = Net().to(device)\n",
        "DPSGD(net, trainloader, sigma=0.1, lr=0.05)\n",
        "\n",
        "score = calculate_accuracy(net, trainloader)\n",
        "print('Accuracy of the network on the train images: {}%'.format(score))"
      ]
    },
    {
      "cell_type": "markdown",
      "metadata": {
        "id": "zBn3Y939kE2P"
      },
      "source": [
        "TODO:\n",
        "How would privacy guarantee and model accuracy change when we increase the value of $\\sigma$?\n",
        "\n",
        "When you increase the value of `σ` (sigma) in differential privacy mechanisms like DP-SGD, several aspects related to privacy and model accuracy are affected:\n",
        "\n",
        "1. **Privacy Guarantee**:\n",
        "\n",
        "   - **Increased Privacy**: A larger `σ` implies increased noise added to the gradients during each training step. As a result, the privacy guarantee becomes stronger. The higher the `σ`, the more privacy is provided, as the added noise makes it harder to infer details about individual data points.\n",
        "\n",
        "   - **Reduced Privacy Budget Consumption**: With a larger `σ`, you can achieve the same level of privacy (e.g., ε-differential privacy) while consuming less of your privacy budget. This means you can perform more iterations or have a smaller privacy budget for the same level of privacy.\n",
        "\n",
        "2. **Model Accuracy**:\n",
        "\n",
        "   - **Decreased Accuracy**: Increasing `σ` leads to noisier gradient updates. This noise hinders the model's ability to fit the training data accurately. As a result, the model's convergence becomes slower, and its final accuracy may be lower compared to a non-private model (or a DP-SGD model with a smaller `σ`).\n",
        "\n",
        "   - **Trade-off**: There is a trade-off between privacy and model accuracy. When you increase `σ` for stronger privacy, you typically sacrifice some model accuracy. This trade-off can be managed by selecting an appropriate `σ` value based on your privacy requirements and the acceptable level of accuracy loss.\n",
        "\n",
        "   Reference: Given paper and Gpt\n",
        "\n"
      ]
    },
    {
      "cell_type": "markdown",
      "metadata": {
        "id": "6qe833eBCo8k"
      },
      "source": [
        "## Q3: System cost\n",
        "\n",
        "TODO: Why is DP-SGD computation much slower than SGD?\n",
        "\n",
        "TODO: For the naive SGD, if there are $P$ trainable parameters, we know that we need to store $P$ gradients during each batch iteration. How many gradients need to store for DP-SGD during each batch iteration?\n"
      ]
    },
    {
      "cell_type": "markdown",
      "source": [
        "DP-SGD computation is typically much slower than traditional SGD (Stochastic Gradient Descent) due to the additional steps required to ensure differential privacy and the introduction of noise in the gradient updates. Here's why DP-SGD is slower:\n",
        "\n",
        "1. **Noise Addition**: In DP-SGD, noise is added to the gradients during each batch iteration to ensure differential privacy. This noise is necessary to protect the privacy of individual data points in the training dataset. The addition of noise introduces randomness into the gradient updates, making the convergence slower.\n",
        "\n",
        "2. **Gradients Accumulation**: In DP-SGD, instead of updating the model parameters after each sample, gradients are accumulated over a batch of samples before updating the parameters. This accumulation step is essential for accurate privacy guarantees but adds computational overhead.\n",
        "\n",
        "3. **Clipping**: Gradients are typically clipped to limit their norm during each batch iteration in DP-SGD. This clipping step is crucial for ensuring that the noise added to the gradients does not excessively dominate the updates.\n",
        "\n",
        "4. **Parameter Updates**: After accumulating gradients over a batch and adding noise, model parameters are updated. The noise and accumulation steps introduce additional computational complexity compared to traditional SGD.\n",
        "\n",
        "5. **Privacy Budget Management**: To ensure differential privacy, a privacy budget must be managed across multiple iterations. This involves tracking and accounting for the cumulative privacy loss, which adds complexity and can limit the number of iterations.\n",
        "\n",
        "Regarding the number of gradients stored during each batch iteration:\n",
        "\n",
        "- In naive SGD, you need to store gradients for all trainable parameters during each batch iteration. If you have `P` trainable parameters, you need to store and compute `P` gradients.\n",
        "\n",
        "- In DP-SGD, you still need to store gradients for all trainable parameters during each batch iteration. The difference is in how these gradients are used. They are accumulated over the batch of samples before being averaged and used to update the model parameters. The accumulation step introduces additional computational overhead, but the number of gradients stored remains the same, i.e., `P` gradients. However, each gradient is subject to noise and clipping as part of the DP-SGD process.\n",
        "\n",
        "Reference: Given paper and Gpt\n"
      ],
      "metadata": {
        "id": "pFK_e_GRqtHK"
      }
    }
  ],
  "metadata": {
    "accelerator": "GPU",
    "colab": {
      "gpuType": "T4",
      "provenance": [],
      "include_colab_link": true
    },
    "kernelspec": {
      "display_name": "Python 3",
      "name": "python3"
    },
    "language_info": {
      "codemirror_mode": {
        "name": "ipython",
        "version": 3
      },
      "file_extension": ".py",
      "mimetype": "text/x-python",
      "name": "python",
      "nbconvert_exporter": "python",
      "pygments_lexer": "ipython3",
      "version": "3.9.12"
    }
  },
  "nbformat": 4,
  "nbformat_minor": 0
}